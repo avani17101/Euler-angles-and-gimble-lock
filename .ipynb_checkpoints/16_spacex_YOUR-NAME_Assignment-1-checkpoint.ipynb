{
 "cells": [
  {
   "cell_type": "markdown",
   "metadata": {},
   "source": [
    "# Assignment 1: Transformations\n",
    "\n",
    "\n",
    "TEAM-ID: 16 <br>\n",
    "TEAM-NAME: spacex  <br>\n",
    "YOUR-ID:   <br>\n",
    "YOUR-NAME:   <br> \n",
    "\n",
    "(Although you work in groups, both the students have to submit to Moodle, hence there's name field above)"
   ]
  },
  {
   "cell_type": "markdown",
   "metadata": {},
   "source": [
    "# Instructions\n",
    "- Please check Moodle for \"TEAM-ID\" and \"TEAM-NAME\" fields above. Some of your names have been edited because of redundancy/simplicity. Instructions for submitting the assignment through GitHub Classrooms/Moodle has been uploaded on Moodle. Any clarifications will be made there itself.\n",
    "- Code must be written in Python in Jupyter Notebooks. We highly recommend using anaconda distribution or at the minimum, virtual environments for this assignment. See `./misc/installation` for detailed step-by-step instructions about the installation setup.\n",
    "- Both the team members must submit the zip file.\n",
    "- For this assignment, you will be using Open3D extensively. Refer to [Open3D Documentation](http://www.open3d.org/docs/release/): you can use the in-built methods and **unless explicitly mentioned**, don't need to code from scratch for this assignment. Make sure your code is modular since you will be reusing them for future assignments.\n",
    "- Take a look at the entire assignment. The descriptive questions at the end might have a clue if you are stuck somewhere.\n",
    "- Answer the descriptive questions in your own words with context & clarity. Do not just copy-paste from some Wikipedia page. You will be evaluated accordingly.\n",
    "- Please call the visualization functions only when they are asked. They are asked explicitly at the end of every section.\n",
    "- You could split the Jupyter Notebook cells where `TODO` is written, but please try to avoid splitting/changing the structure of other cells."
   ]
  },
  {
   "cell_type": "code",
   "execution_count": 1,
   "metadata": {},
   "outputs": [],
   "source": [
    "import open3d as o3d\n",
    "import copy\n",
    "import numpy as np\n",
    "from scipy.linalg import logm\n",
    "from scipy.spatial.transform import Rotation as R\n",
    "from scipy.optimize import fsolve\n",
    "import matplotlib.pyplot as plt\n",
    "import time"
   ]
  },
  {
   "cell_type": "markdown",
   "metadata": {},
   "source": [
    "# 1. Getting started with Open3D\n",
    "## 1.1 Converting RGBD image into Point Cloud\n",
    "\n",
    "\n",
    "In your robotics journey, it is common to be given just the depth images along with camera parameters in a generic dataset and you'd want to build a 3D data representation out of it, for example, a point cloud. You will understand the math behind these concepts in detail during Vision classes, for now, you can use the in-built functions as a black box.\n",
    "- Below are the given RGB and D images from SUN RGB-D dataset ([S.Song, CVPR 2015](https://rgbd.cs.princeton.edu/)). \n",
    "![low-res-RGBD.resized.png](./misc/low-res-RGBD.png)\n",
    "\n",
    "- Read these two images `color.jpg` and `depth.png` given in current folder using Open3D. Convert it to a point cloud using the default camera parameters (`o3d.camera.PinholeCameraIntrinsicParameters.PrimeSenseDefault`).\n",
    "Then,\n",
    "- Create a \"world\" frame $A$ and combine this (just use $+$ operator) with the above point cloud and save it as `scene.pcd`. Put it aside for now.\n",
    "- Write a simple function `one_one` to visualize `scene.pcd`."
   ]
  },
  {
   "cell_type": "code",
   "execution_count": 2,
   "metadata": {},
   "outputs": [
    {
     "data": {
      "text/plain": [
       "True"
      ]
     },
     "execution_count": 2,
     "metadata": {},
     "output_type": "execute_result"
    }
   ],
   "source": [
    "##############################################################################\n",
    "# TODO: Do tasks described in 1.1                                            #\n",
    "##############################################################################\n",
    "# Replace \"pass\" statement with your code\n",
    "color_raw = o3d.io.read_image(\"color.jpg\")\n",
    "depth_raw = o3d.io.read_image(\"depth.png\")\n",
    "rgbd_image = o3d.geometry.RGBDImage.create_from_sun_format(color_raw, depth_raw)\n",
    "pcd = o3d.geometry.PointCloud.create_from_rgbd_image(\n",
    "    rgbd_image,\n",
    "    o3d.camera.PinholeCameraIntrinsic(\n",
    "        o3d.camera.PinholeCameraIntrinsicParameters.PrimeSenseDefault))\n",
    "pcd.transform([[1, 0, 0, 0], [0, -1, 0, 0], [0, 0, -1, 0], [0, 0, 0, 1]])\n",
    "world_frame = o3d.geometry.TriangleMesh.create_coordinate_frame( size=1, origin=[1, 1, 1])\n",
    "frame = o3d.geometry.TriangleMesh.sample_points_uniformly(world_frame, number_of_points=15000, use_triangle_normal=False, seed=- 1)\n",
    "o3d.io.write_point_cloud(\"scene.pcd\", pcd+frame)\n",
    "##############################################################################\n",
    "#                             END OF YOUR CODE                               #\n",
    "##############################################################################"
   ]
  },
  {
   "cell_type": "markdown",
   "metadata": {},
   "source": [
    "### Question for 1.1\n",
    "\n",
    "- In the next code cell, call the function `one_one` here showing `scene.pcd`."
   ]
  },
  {
   "cell_type": "code",
   "execution_count": 3,
   "metadata": {},
   "outputs": [],
   "source": [
    "#uncomment the following and add input parameters if any\n",
    "def one_one(file):\n",
    "    pcd = o3d.io.read_point_cloud(file)\n",
    "    o3d.visualization.draw_geometries([pcd])\n",
    "one_one(\"scene.pcd\")"
   ]
  },
  {
   "cell_type": "markdown",
   "metadata": {},
   "source": [
    "# 2. Rotations, Euler angles and Gimbal Lock\n",
    "\n",
    "## 2.1 Rotating an object\n",
    "\n",
    "The objective here is to roughly simulate an object moving on a ground.\n",
    "\n",
    "- Generate a cube at some point on the ground and create another frame $B$ at the center of this object. Combine these both as a single point cloud `cube.pcd`. (You can pick a point on the ground by using the `get_picked_points` method of the class `open3d.visualization.VisualizerWithEditing`.)\n",
    "- Now read both the point clouds `scene.pcd` and `cube.pcd` in a script. Whatever tasks you do below are on the object `cube.pcd` (along with the axes $B$) with `scene.pcd` in the background (static).\n",
    "- Given a sequence of **ZYX Euler** angles $[30^{\\circ}, 90^{\\circ}, 45^{\\circ}]$, generate the rotation. In our case, our object (with its respective axis) undergoes rotation with the background being fixed (with its respective axis).\n",
    "- Note: Throughout this assignment, we will be using the standard **ZYX** Euler angle convention.\n",
    "- Write a function `two_one` to show the above by **animation** (cube rotating along each axis one by one).\n",
    "    - *Hint: Use Open3D's non-blocking visualization and discretize the rotation to simulate the animation. For example, if you want to rotate by $30^{\\circ}$ around a particular axis, do in increments of $5^{\\circ}$ 6 times to make it look like an animation.*\n"
   ]
  },
  {
   "cell_type": "code",
   "execution_count": 4,
   "metadata": {},
   "outputs": [],
   "source": [
    "def pick_points(pcd):\n",
    "    print(\"\")\n",
    "    print(\n",
    "        \"1) Please pick at least three correspondences using [shift + left click]\"\n",
    "    )\n",
    "    print(\"   Press [shift + right click] to undo point picking\")\n",
    "    print(\"2) Afther picking points, press q for close the window\")\n",
    "    vis = o3d.visualization.VisualizerWithEditing()\n",
    "    vis.create_window()\n",
    "    vis.add_geometry(pcd)\n",
    "    vis.run()  # user picks points\n",
    "    vis.destroy_window()\n",
    "    print(\"\")\n",
    "    return vis.get_picked_points()"
   ]
  },
  {
   "cell_type": "code",
   "execution_count": 5,
   "metadata": {},
   "outputs": [
    {
     "name": "stdout",
     "output_type": "stream",
     "text": [
      "\n",
      "1) Please pick at least three correspondences using [shift + left click]\n",
      "   Press [shift + right click] to undo point picking\n",
      "2) Afther picking points, press q for close the window\n",
      "[Open3D INFO] Picked point #182610 (-0.76, -0.92, -3.5) to add in queue.\n",
      "\n"
     ]
    }
   ],
   "source": [
    "# pick points not working for me rn\n",
    "pcd = o3d.io.read_point_cloud(\"scene.pcd\")\n",
    "picked = pick_points(pcd)"
   ]
  },
  {
   "cell_type": "code",
   "execution_count": 6,
   "metadata": {},
   "outputs": [
    {
     "name": "stdout",
     "output_type": "stream",
     "text": [
      "[182610]\n"
     ]
    }
   ],
   "source": [
    "print(picked)\n",
    "picked_coord = pcd.points[picked[0]]"
   ]
  },
  {
   "cell_type": "code",
   "execution_count": 7,
   "metadata": {},
   "outputs": [
    {
     "data": {
      "text/plain": [
       "True"
      ]
     },
     "execution_count": 7,
     "metadata": {},
     "output_type": "execute_result"
    }
   ],
   "source": [
    "##############################################################################\n",
    "# TODO: Do tasks described in 2.1                                            #\n",
    "##############################################################################\n",
    "# Replace \"pass\" statement with your code\n",
    "\n",
    "\n",
    "mesh_box = o3d.geometry.TriangleMesh.create_box(width=1, height=1,depth=1)\n",
    "mesh_box.compute_vertex_normals()\n",
    "mesh_box.paint_uniform_color([0.9, 0.1, 0.1])\n",
    "box = o3d.geometry.TriangleMesh.sample_points_uniformly(mesh_box, number_of_points=100500, use_triangle_normal=False, seed=- 1)\n",
    "center = o3d.geometry.PointCloud.get_center(box)\n",
    "mesh_frame = o3d.geometry.TriangleMesh.create_coordinate_frame( size=1.2, origin=[-0.5, -0.5, -0.5])\n",
    "frame = o3d.geometry.TriangleMesh.sample_points_uniformly(mesh_frame, number_of_points=15000, use_triangle_normal=False, seed=- 1)\n",
    "pcd = frame+ box\n",
    "# o3d.visualization.draw_geometries([pcd])\n",
    "o3d.io.write_point_cloud(\"cube.pcd\", pcd)\n",
    "\n",
    "\n",
    "##############################################################################\n",
    "#                             END OF YOUR CODE                               #\n",
    "##############################################################################\n"
   ]
  },
  {
   "cell_type": "markdown",
   "metadata": {},
   "source": [
    "### Question for 2.1\n",
    "\n",
    "- In the next code cell, call the function `two_one` here showing the animation described in section 2.1."
   ]
  },
  {
   "cell_type": "code",
   "execution_count": 8,
   "metadata": {},
   "outputs": [
    {
     "name": "stdout",
     "output_type": "stream",
     "text": [
      "[-0.75731522 -0.92412478 -3.50300002]\n"
     ]
    }
   ],
   "source": [
    "def two_one():\n",
    "    def draw(cube,scene,picked_coord):\n",
    "        vis = o3d.visualization.Visualizer()\n",
    "        vis.create_window()\n",
    "        vis.add_geometry(cube)\n",
    "        vis.add_geometry(scene)\n",
    "        #cx = -0.5#+\n",
    "        cx = picked_coord[0] + 0.5\n",
    "        #cy = -0.5#+ \n",
    "        cy = picked_coord[1] + 0.5\n",
    "        #cz = -0.5#+ \n",
    "        cz = picked_coord[2] + 0.5\n",
    "        k = 200\n",
    "        for i in range(k):\n",
    "            time.sleep(0.0065)\n",
    "            R = cube.get_rotation_matrix_from_zyx(((np.pi/(6*k)),0,0))\n",
    "            cube.rotate(R, (cx,cy,cz))\n",
    "            vis.update_geometry(cube)\n",
    "            vis.poll_events()\n",
    "            vis.update_renderer()\n",
    "        Rz = cube.get_rotation_matrix_from_zyx((np.pi/6,0,0))\n",
    "        for i in range(k):\n",
    "            time.sleep(0.0065)\n",
    "            R = cube.get_rotation_matrix_from_zyx((0,np.pi/(2*k),0))\n",
    "            cube.rotate((Rz@R)@Rz.T,(cx,cy,cz))\n",
    "            vis.update_geometry(cube)\n",
    "            vis.poll_events()\n",
    "            vis.update_renderer()\n",
    "        Ry = cube.get_rotation_matrix_from_zyx((0,np.pi/2,0))\n",
    "        for i in range(k):\n",
    "            time.sleep(0.0065)\n",
    "            R = cube.get_rotation_matrix_from_zyx((0,0,np.pi/(4*k)))\n",
    "            cube.rotate((Ry@R)@Ry.T,(cx,cy,cz))\n",
    "            vis.update_geometry(cube)\n",
    "            vis.poll_events()\n",
    "            vis.update_renderer()\n",
    "        vis.destroy_window()\n",
    "        return True\n",
    "    cube = o3d.io.read_point_cloud(\"cube.pcd\")\n",
    "    cube.translate(picked_coord)                                          \n",
    "    scene = o3d.io.read_point_cloud(\"scene.pcd\")\n",
    "    draw(cube,scene,picked_coord)  \n",
    "    \n",
    "print(picked_coord)\n",
    "two_one()"
   ]
  },
  {
   "cell_type": "markdown",
   "metadata": {},
   "source": [
    "## 2.2 Euler angle & Gimbal lock\n",
    "\n",
    "Code the following yourself from scratch (Refer Craig book - Section: $Z-Y-X$ Euler angles - same conventions/notations followed).\n",
    "\n",
    "- Case 1: Given the rotation matrix $M_{given}$ below, extract Euler angles $\\alpha , \\beta ,\\gamma$. Convert it back to the rotation matrix $M_{recovered}$ from Euler angles.\n",
    "\n",
    "    $$M(\\alpha , \\beta ,\\gamma)=\\left[\\begin{array}{rrr}0.26200263 & -0.19674724 & 0.944799 \\\\0.21984631 & 0.96542533 & 0.14007684 \\\\\n",
    "    -0.93969262 & 0.17101007 & 0.29619813\\end{array}\\right] $$\n",
    "\n",
    "    After coding it from scratch, check your calculations using `scipy.spatial.transform.Rotation`. (Mandatory)\n",
    "\n",
    "- Case 2: Given the rotation matrix $N_{given}$, extract Euler angles, and convert back $N_{recovered}$.\n",
    "\n",
    "    $$N(\\alpha , \\beta ,\\gamma)=\\left[\\begin{array}{rrr}0 & -0.173648178 &  0.984807753 \\\\0 & 0.984807753 & 0.173648178 \\\\\n",
    "    -1 & 0 & 0\\end{array}\\right] $$\n",
    "\n",
    "    Again use `scipy` and check its output. If `scipy` is showing any warnings on any of the above cases, explain it in \"**Questions for 2.2**\" (last question). Write code in the next cell.\n",
    "    \n",
    "- (Optional) Case 3: Do the above two for quaternion using scipy functions, i.e. given the rotation matrix, extract quaternion and convert back."
   ]
  },
  {
   "cell_type": "code",
   "execution_count": 9,
   "metadata": {
    "deletable": false,
    "editable": false
   },
   "outputs": [],
   "source": [
    "##############################################################################\n",
    "# DON'T EDIT\n",
    "M_given =  np.array([[0.26200263, -0.19674724, 0.944799],\n",
    "                     [0.21984631, 0.96542533, 0.14007684],\n",
    "                     [-0.93969262, 0.17101007, 0.29619813]])\n",
    "\n",
    "N_given = np.array([[0,-0.173648178,0.984807753],\n",
    "                    [0, 0.984807753, 0.173648178],\n",
    "                    [-1, 0, 0]])"
   ]
  },
  {
   "cell_type": "code",
   "execution_count": 10,
   "metadata": {},
   "outputs": [
    {
     "name": "stdout",
     "output_type": "stream",
     "text": [
      "* M_given *\n",
      "[[ 0.26200263 -0.19674724  0.944799  ]\n",
      " [ 0.21984631  0.96542533  0.14007684]\n",
      " [-0.93969262  0.17101007  0.29619813]]\n",
      "from Scrath\n",
      "\n",
      " Reconstructed angles 0.6981317003487097   1.2217304765297095   0.5235987753730347\n",
      "\n",
      " Reconstructed Matrix\n",
      "[[ 0.26200263 -0.19674724  0.944799  ]\n",
      " [ 0.21984631  0.96542534  0.14007684]\n",
      " [-0.93969262  0.17101007  0.29619813]]\n",
      "\n",
      " Checking from scipy: Reconstructed matrix\n",
      "[[ 0.26200263 -0.19674724  0.944799  ]\n",
      " [ 0.21984631  0.96542534  0.14007684]\n",
      " [-0.93969262  0.17101007  0.29619813]]\n",
      "\n",
      " * N_given *\n",
      "[[ 0.         -0.17364818  0.98480775]\n",
      " [ 0.          0.98480775  0.17364818]\n",
      " [-1.          0.          0.        ]]\n",
      "from Scrath\n",
      "\n",
      " Reconstructed angles 0   1.5707963267948966   -0.17453292552956243\n",
      "\n",
      " Reconstructed Matrix\n",
      "[[ 6.12323400e-17 -1.73648178e-01  9.84807753e-01]\n",
      " [ 0.00000000e+00  9.84807753e-01  1.73648178e-01]\n",
      " [-1.00000000e+00 -1.06328843e-17  6.03020831e-17]]\n",
      "\n",
      " Checking from scipy: Reconstructed matrix\n",
      "[[ 1.66533454e-16 -1.73648178e-01  9.84807753e-01]\n",
      " [ 0.00000000e+00  9.84807753e-01  1.73648178e-01]\n",
      " [-1.00000000e+00 -2.77555756e-17  1.66533454e-16]]\n"
     ]
    }
   ],
   "source": [
    "# TODO: Do tasks described in 2.2                                            #\n",
    "##############################################################################\n",
    "# Replace \"pass\" statement with your code\n",
    "from scipy.spatial.transform import Rotation as R\n",
    "# def getEuler(M_given):\n",
    "#     beta = np.arctan2(np.sqrt(pow(M_given[2][0],2)+  pow(M_given[2][1],2)), M_given[2][2])\n",
    "#     alpha = np.arctan2(M_given[1][2]/np.sin(beta) , M_given[0][2]/np.sin(beta))\n",
    "#     gamma = np.arctan2(M_given[2][1]/np.sin(beta) , -1*M_given[2][0]/np.sin(beta))\n",
    "#     return alpha,beta,gamma\n",
    "\n",
    "# def reconstructMat(alpha,beta,gamma):\n",
    "#     mat = np.ndarray([3,3])\n",
    "#     mat[0][0] = np.cos(alpha)*np.cos(beta)*np.cos(gamma) - np.sin(alpha)*np.sin(gamma)\n",
    "#     mat[0][1] = -1*np.cos(alpha)*np.cos(beta)*np.sin(gamma) - np.sin(alpha)*np.cos(gamma)\n",
    "#     mat[0][2] = np.cos(alpha)*np.sin(beta)\n",
    "#     mat[1][0] =  np.sin(alpha)*np.cos(beta)*np.cos(gamma) + np.cos(alpha)*np.sin(gamma)\n",
    "#     mat[1][1] = -1*np.sin(alpha)*np.cos(beta)*np.sin(gamma) + np.cos(alpha)*np.cos(gamma)\n",
    "#     mat[1][2] = np.sin(alpha)*np.sin(beta)\n",
    "#     mat[2][0] = -1*np.sin(beta)*np.cos(gamma)\n",
    "#     mat[2][1] = np.sin(beta)*np.sin(gamma)\n",
    "#     mat[2][2] = np.cos(beta)\n",
    "#     return mat\n",
    "\n",
    "def getEuler(M_given):\n",
    "    alpha = 0\n",
    "    beta = 0\n",
    "    yamma = 0\n",
    "    if(M_given[2][0]!=1 and M_given[2][0]!=-1 ):\n",
    "        beta = np.arctan2(-1*M_given[2][0],np.sqrt(pow(M_given[0][0],2)+  pow(M_given[1][0],2))) \n",
    "        alpha = np.arctan2(M_given[1][0]/np.cos(beta) , M_given[0][0]/np.cos(beta))\n",
    "        gamma = np.arctan2(M_given[2][1]/np.cos(beta) , M_given[2][2]/np.cos(beta))\n",
    "    else:\n",
    "        if(M_given[2][0]==-1):\n",
    "            beta = np.pi/2\n",
    "            gamma = alpha + np.arctan2(M_given[0][1],M_given[0][2])\n",
    "        else:\n",
    "            beta = -np.pi/2\n",
    "            gamma = -alpha + np.arctan2(-M_given[0][1],-M_given[0][2])\n",
    "\n",
    "    return alpha,beta,gamma\n",
    "\n",
    "def reconstructMat(alpha,beta,gamma):\n",
    "  \n",
    "    Rz = np.array([[np.cos(alpha),-1*np.sin(alpha),0],\n",
    "                   [np.sin(alpha),np.cos(alpha),0],\n",
    "                   [0,0,1]])\n",
    "    Ry = np.array([[np.cos(beta),0,np.sin(beta)],\n",
    "                   [0,1,0],\n",
    "                   [-1*np.sin(beta),0,np.cos(beta)]])\n",
    "    Rx = np.array([[1,0,0],\n",
    "                   [0,np.cos(gamma),-1*np.sin(gamma)],\n",
    "                   [0,np.sin(gamma),np.cos(gamma)]])\n",
    "    R = np.matmul(np.matmul(Rz,Ry),Rx)\n",
    "    return R\n",
    "\n",
    "def check(M_given):\n",
    "    alpha,beta,gamma = getEuler(M_given)\n",
    "    mat = reconstructMat(alpha,beta,gamma)\n",
    "    print(\"from Scrath\")\n",
    "    print(\"\\n Reconstructed angles\", alpha,\" \",beta,\" \",gamma)\n",
    "    print(\"\\n Reconstructed Matrix\")\n",
    "    print(mat)\n",
    "    # checking\n",
    "    r = R.from_euler('ZYX', [alpha,beta,gamma], degrees = False)\n",
    "    print(\"\\n Checking from scipy: Reconstructed matrix\")\n",
    "    print(r.as_matrix())\n",
    "    \n",
    "    return [alpha,beta,gamma],mat\n",
    "\n",
    "print(\"* M_given *\")\n",
    "print(M_given)\n",
    "my_array_case1,M_recovered = check(M_given)\n",
    "print(\"\\n * N_given *\")\n",
    "print(N_given)\n",
    "my_array_case2,N_recovered = check(N_given)\n",
    "\n",
    "\n",
    "##############################################################################\n",
    "#                             END OF YOUR CODE                               #\n",
    "##############################################################################"
   ]
  },
  {
   "cell_type": "markdown",
   "metadata": {},
   "source": [
    "Here, we see that the reconstruction from scratch matches the M_given and N_given more precisely that that from scipy"
   ]
  },
  {
   "cell_type": "markdown",
   "metadata": {},
   "source": [
    "## Questions for 2.2\n",
    "- Have you used `np.arctan` or an any equivalent `atan` function above? Why or why not?   \n",
    "    * Ans: *We used np.arctan2 fucntion since it returns array of angles in radians, in the range [-pi, pi] and we required the range to be -pi to pi in euler angles. On the other hand np.arctan would return in range [-pi/2, pi/2] which was not what we required."
   ]
  },
  {
   "cell_type": "markdown",
   "metadata": {},
   "source": [
    "### For Case 1 above,\n",
    "- What Euler angles  $\\alpha , \\beta ,\\gamma$ did you get? Replace `my_array_case1` with your array."
   ]
  },
  {
   "cell_type": "code",
   "execution_count": 11,
   "metadata": {},
   "outputs": [
    {
     "name": "stdout",
     "output_type": "stream",
     "text": [
      "My Euler angles for case 1 are[0.6981317003487097, 1.2217304765297095, 0.5235987753730347]\n"
     ]
    }
   ],
   "source": [
    "# Uncomment and replace my_array_case1 with your array.\n",
    "print(\"My Euler angles for case 1 are\" + str(my_array_case1))"
   ]
  },
  {
   "cell_type": "markdown",
   "metadata": {},
   "source": [
    "  - Were you able to recover back your rotation matrix when you converted it from Euler angles? Why/why not? Replace `M_given` and `M_recovered` with your matrices below and explain \"why/why not\" after this code snippet."
   ]
  },
  {
   "cell_type": "code",
   "execution_count": 12,
   "metadata": {},
   "outputs": [
    {
     "name": "stdout",
     "output_type": "stream",
     "text": [
      "For case 1, it is True I could recover the original matrix.\n"
     ]
    }
   ],
   "source": [
    "# Uncomment and Replace M_given and M_recovered with your matrices below.\n",
    "error = np.linalg.norm(logm(M_given @ M_recovered.T))\n",
    "print(\"For case 1, it is \" + str(error<0.0001) + \" I could recover the original matrix.\")"
   ]
  },
  {
   "cell_type": "markdown",
   "metadata": {},
   "source": [
    "- Why/why not? Based on your observations here, is there any problem with Euler angle representation for Case 1? If yes, what is it?\n",
    "\n",
    "    - Ans:    *No problem, could recover accurately by coding from scrath but didnt recover by using scipy function*"
   ]
  },
  {
   "cell_type": "markdown",
   "metadata": {},
   "source": [
    "### Repeat the above for Case 2."
   ]
  },
  {
   "cell_type": "code",
   "execution_count": 13,
   "metadata": {},
   "outputs": [
    {
     "name": "stdout",
     "output_type": "stream",
     "text": [
      "My Euler angles for case 2 are[0, 1.5707963267948966, -0.17453292552956243]\n",
      "For case 2, it is True I could recover the original matrix.\n"
     ]
    }
   ],
   "source": [
    "# Uncomment and Replace N_given and N_recovered with your matrices below.\n",
    "print(\"My Euler angles for case 2 are\" + str(my_array_case2))\n",
    "error = np.linalg.norm(logm(N_given @ N_recovered.T))\n",
    "print(\"For case 2, it is \" + str(error<0.0001) + \" I could recover the original matrix.\")"
   ]
  },
  {
   "cell_type": "markdown",
   "metadata": {},
   "source": [
    "* Why/why not? Based on your observations here, is there any problem with Euler angle representation for Case 2? If yes, what is it?\n",
    "\n",
    "    * Ans: *I dont see any problem. Was able to recover by coding from scrath.*\n",
    "    \n",
    "    \n",
    "* Explain any more problems with Euler angle representation. Explain what you understand by Gimbal lock (concisely in your own words). You could revisit this question in the section 2.4.\n",
    "    * Ans: *your answer here.*"
   ]
  },
  {
   "cell_type": "markdown",
   "metadata": {},
   "source": [
    "- When you used `scipy.spatial.transform.Rotation` for the above 2 cases,\n",
    "    - Have you used `zyx` above in `r.as_euler('')` argument? Why or why not? Explain the difference between extrinsic and instrinsic rotations with equivalent technical names from Craig book?\n",
    "        * Ans: *your answer here.*\n",
    "    - Has `scipy` shown any warnings on any of the above cases? If yes, explain it.\n",
    "        * Ans: *your answer here.*\n",
    "    - (Optional) For Case 3 above (quaternion) which you did using scipy, did you observe any problem with quaternion? Depending on your observations, which is better? Quaternion or Euler angles? And why?\n",
    "         * Ans: *your answer here.*\n"
   ]
  },
  {
   "cell_type": "markdown",
   "metadata": {},
   "source": [
    "## 2.3 Rotation matrix as an Operator\n",
    "This question will help you in your understanding of [Rotator-transform (Vector-frame) equivalence](https://www.notion.so/saishubodh/Lecture-2-Transformations-11d69d8cef2d4cd195a98fa7d33224e1#f90ece4f5e374743bfed47e46a83ecfe).\n",
    "\n",
    "![image.png](./misc/xyz-frame.png)\n",
    "Consider the frame $XYZ$ in the above image. Say you have a vector $x_1=[0,\\sqrt{3},0]$. Now you want to rotate it such that you end up at $x_2=[1,1,1]$ through a sequence of Euler angle rotations. Your goal is to find out those $\\alpha, \\beta \\: \\& \\: \\gamma$ ($ZYX$). We will follow this order whenever we refer to it below.\n",
    "\n",
    "First, properly understand the so-called \"Rotator-transform equivalence\" to figure out what are the terms of rotation matrix. Then, put the math on paper and you will end up with a set of non-linear equations. Write the set of linear equations in LaTeX here:"
   ]
  },
  {
   "cell_type": "markdown",
   "metadata": {},
   "source": [
    "$$ \\textbf{The equations} $$\n",
    "$$\n",
    "\\textit{X}^{'} = \\textit{X} * ( \\cos{\\alpha} * \\cos{\\beta} ) +  \\textit(Y) * (\\cos{\\alpha} * \\sin{\\beta} * \\sin{\\gamma} - \\sin{\\alpha} * \\cos{\\gamma}) + \\textit{Z} * (\\cos{\\alpha} * \\sin{\\beta} * \\cos{\\gamma} + \\sin{\\alpha} * \\sin{\\gamma})\n",
    "$$\n",
    "$$\n",
    "\\textit{Y}^{'} = \\textit{X} * ( \\sin{\\alpha} * \\cos{\\beta} ) +  \\textit(Y) * (\\sin{\\alpha} * \\sin{\\beta} * \\sin{\\gamma} + \\cos{\\alpha} * \\cos{\\gamma}) + \\textit{Z} * (\\sin{\\alpha} * \\sin{\\beta} * \\cos{\\gamma} - \\cos{\\alpha} * \\sin{\\gamma})\n",
    "$$\n",
    "$$\n",
    "\\textit{Z}^{'} = \\textit{X} * ( -\\sin{\\beta} ) +  \\textit(Y) * (\\cos{\\beta} * \\sin{\\gamma}) + \\textit{Z} * (\\cos{\\beta} * \\cos{\\gamma} )\n",
    "$$"
   ]
  },
  {
   "cell_type": "markdown",
   "metadata": {},
   "source": [
    "Solve these equations using `fsolve` from `scipy.optimize` as follows: (Come back and answer the following questions after coding it in the next block)\n",
    "- `case1`: First, solve it with an initialization of (0,0,0). Check if your answer is correct using `np.isclose`.\n",
    "    * What Euler angles did you get? Answer in $\\alpha, \\beta \\: \\& \\: \\gamma$ format:\n",
    "        * Ans: *$a_1, b_1, c_1$ = your answer here.* \n",
    "- `case2`: Now, forget about the solver for a moment: Can you visualize and think of sequence of rotations one by one to reach the final position (which is different than previous set of rotations)? Now, validate your answer by giving (your answer $\\pm 5$) as initialization.\n",
    "    * What Euler angles did you get? Answer in $\\alpha, \\beta \\: \\& \\: \\gamma$ format:\n",
    "        * Ans: *$a_2, b_2, c_2$ = your answer here.*"
   ]
  },
  {
   "cell_type": "code",
   "execution_count": 14,
   "metadata": {
    "deletable": false,
    "editable": false
   },
   "outputs": [],
   "source": [
    "##############################################################################\n",
    "# DON'T EDIT\n",
    "x_1 = np.array([0,np.sqrt(3),0])\n",
    "x_2 = np.array([1,1,1])"
   ]
  },
  {
   "cell_type": "code",
   "execution_count": 15,
   "metadata": {},
   "outputs": [
    {
     "name": "stdout",
     "output_type": "stream",
     "text": [
      "[[1. 0. 0.]\n",
      " [0. 1. 0.]\n",
      " [0. 0. 1.]]\n",
      "[[1. 0. 0.]\n",
      " [0. 1. 0.]\n",
      " [0. 0. 1.]]\n",
      "[[1. 0. 0.]\n",
      " [0. 1. 0.]\n",
      " [0. 0. 1.]]\n",
      "[[ 1.00000000e+00 -1.49011612e-08  0.00000000e+00]\n",
      " [ 1.49011612e-08  1.00000000e+00  0.00000000e+00]\n",
      " [ 0.00000000e+00  0.00000000e+00  1.00000000e+00]]\n",
      "[[ 1.00000000e+00  0.00000000e+00  1.49011612e-08]\n",
      " [ 0.00000000e+00  1.00000000e+00  0.00000000e+00]\n",
      " [-1.49011612e-08  0.00000000e+00  1.00000000e+00]]\n",
      "[[ 1.00000000e+00  0.00000000e+00  0.00000000e+00]\n",
      " [ 0.00000000e+00  1.00000000e+00 -1.49011612e-08]\n",
      " [ 0.00000000e+00  1.49011612e-08  1.00000000e+00]]\n",
      "[[ 0.71826801  0.22182499 -0.65945791]\n",
      " [-0.46787108  0.85550589 -0.221825  ]\n",
      " [ 0.5149638   0.46787109  0.71826801]]\n",
      "[[ 0.04409148  0.63427904 -0.77184586]\n",
      " [ 0.94800322  0.21718953  0.23263405]\n",
      " [ 0.31519174 -0.74196954 -0.59172237]]\n",
      "[[-0.02899452  0.5483006  -0.83577854]\n",
      " [ 0.07599723 -0.83250078 -0.54878673]\n",
      " [-0.99668638 -0.07942867 -0.01753137]]\n",
      "[[ 0.71826802  0.22182498 -0.65945791]\n",
      " [-0.46787107  0.85550589 -0.221825  ]\n",
      " [ 0.5149638   0.46787109  0.71826801]]\n",
      "[[ 0.71826866  0.22182557 -0.65945701]\n",
      " [-0.4678715   0.85550551 -0.22182558]\n",
      " [ 0.51496252  0.4678715   0.71826865]]\n",
      "[[ 0.71826801  0.22182498 -0.65945791]\n",
      " [-0.46787108  0.85550588 -0.22182501]\n",
      " [ 0.5149638   0.46787109  0.71826801]]\n",
      "[[ 0.03848423  0.5207064   0.85286799]\n",
      " [-0.92705593  0.33714749 -0.16400876]\n",
      " [-0.37294272 -0.78434458  0.49569881]]\n",
      "[[ 0.00788548 -0.85972272 -0.51070017]\n",
      " [-0.99623489  0.03734023 -0.07824168]\n",
      " [ 0.08633581  0.5093943  -0.85619132]]\n",
      "[[ 0.74777037  0.66145802  0.05755665]\n",
      " [-0.54295817  0.65908873 -0.52038301]\n",
      " [-0.38214645  0.35787614  0.85199106]]\n",
      "[[ 0.69771646  0.71493329 -0.04541068]\n",
      " [-0.52157029  0.46351087 -0.71632542]\n",
      " [-0.49107655  0.5234769   0.69628713]]\n",
      "[[ 0.75275431  0.45308996 -0.4775672 ]\n",
      " [-0.65521457  0.58584262 -0.47695105]\n",
      " [ 0.06367749  0.67193594  0.7378667 ]]\n",
      "[[ 0.74997739  0.58485239 -0.30900095]\n",
      " [-0.64662261  0.54983658 -0.52873333]\n",
      " [-0.13933093  0.59634505  0.79054379]]\n",
      "[[ 0.75043067  0.58450725 -0.30855322]\n",
      " [-0.65139941  0.57498055 -0.4950517 ]\n",
      " [-0.11194921  0.57249336  0.81223071]]\n",
      "[[ 0.75044468  0.57809787 -0.32036798]\n",
      " [-0.65344192  0.57617732 -0.49095147]\n",
      " [-0.09922923  0.57777379  0.81014258]]\n",
      "[[ 0.75045901  0.57741242 -0.32156831]\n",
      " [-0.6537902   0.57731194 -0.48915161]\n",
      " [-0.09679699  0.57732644  0.81075553]]\n",
      "[[ 0.75045913  0.57734908 -0.32168173]\n",
      " [-0.65381278  0.57735151 -0.48907472]\n",
      " [-0.09664341  0.57735021  0.81075692]]\n",
      "[[ 0.75045912  0.57735026 -0.32167964]\n",
      " [-0.65381229  0.57735028 -0.48907683]\n",
      " [-0.0966468   0.57735027  0.81075647]]\n",
      "[[ 0.75045912  0.57735027 -0.32167962]\n",
      " [-0.65381228  0.57735027 -0.48907685]\n",
      " [-0.09664684  0.57735027  0.81075647]]\n",
      "-0.7166830461925602 100.6277628440765 0.6188093556149915\n"
     ]
    }
   ],
   "source": [
    "##############################################################################\n",
    "# TODO: Do tasks described in 2.3                                            #\n",
    "##############################################################################\n",
    "# Replace \"pass\" statement with your code\n",
    "import numpy as np\n",
    "from scipy.optimize import fsolve\n",
    "# def solve(arr):\n",
    "#     x_1 = np.array([0,np.sqrt(3),0])\n",
    "#     x_2 = np.array([1,1,1])\n",
    "#     alpha,beta,gamma = arr[0],arr[1],arr[2]\n",
    "#     R = np.array([[np.cos(alpha)*np.cos(beta),np.cos(alpha)*np.sin(beta)*np.sin(gamma)-np.sin(alpha)*np.cos(gamma),np.cos(alpha)*np.sin(beta)*np.cos(gamma)+np.sin(alpha)*np.sin(gamma)],\n",
    "#               [np.sin(alpha)*np.cos(beta),np.sin(alpha)*np.sin(beta)*np.sin(gamma)+np.cos(alpha)*np.cos(gamma),np.sin(alpha)*np.sin(beta)*np.cos(gamma)-np.cos(alpha)*np.sin(gamma)],\n",
    "#               [-1*np.sin(beta),np.cos(beta)*np.sin(gamma),np.cos(beta)*np.cos(gamma)]])\n",
    "    \n",
    "#     x_1 =  x_1.T.reshape(3,1)\n",
    "#     x_2 = x_2.T.reshape(3,1)\n",
    "    \n",
    "#     return (x_2 - np.dot(R,x_1)).T.reshape(3)\n",
    "def solve(arr):\n",
    "    x_1 = np.array([0,np.sqrt(3),0])\n",
    "    x_2 = np.array([1,1,1])\n",
    "    alpha,beta,gamma = arr[0],arr[1],arr[2]\n",
    "    Rz = np.array([[np.cos(alpha),-1*np.sin(alpha),0],\n",
    "                   [np.sin(alpha),np.cos(alpha),0],\n",
    "                   [0,0,1]])\n",
    "    Ry = np.array([[np.cos(beta),0,np.sin(beta)],\n",
    "                   [0,1,0],\n",
    "                   [-1*np.sin(beta),0,np.cos(beta)]])\n",
    "    Rx = np.array([[1,0,0],\n",
    "                   [0,np.cos(gamma),-1*np.sin(gamma)],\n",
    "                   [0,np.sin(gamma),np.cos(gamma)]])\n",
    "    R = np.dot(np.dot(Rz,Ry),Rx)\n",
    "    print(R)\n",
    "    x_1 =  x_1.T.reshape(3,1)\n",
    "    x_2 = x_2.T.reshape(3,1)\n",
    "    \n",
    "    return (x_2 - np.dot(R,x_1)).T.reshape(3)\n",
    "sol = fsolve(solve,[0,0,0])\n",
    "a1,b1,c1 = sol[0],sol[1],sol[2]\n",
    "print(a1,b1,c1)\n",
    "\n",
    "##############################################################################\n",
    "#                             END OF YOUR CODE                               #\n",
    "##############################################################################"
   ]
  },
  {
   "cell_type": "code",
   "execution_count": 16,
   "metadata": {
    "scrolled": true
   },
   "outputs": [
    {
     "name": "stdout",
     "output_type": "stream",
     "text": [
      "[[ 0.75045912  0.57735027 -0.32167962]\n",
      " [-0.65381228  0.57735027 -0.48907685]\n",
      " [-0.09664684  0.57735027  0.81075647]]\n"
     ]
    }
   ],
   "source": [
    "print(reconstructMat(a1,b1,c1))"
   ]
  },
  {
   "cell_type": "code",
   "execution_count": 17,
   "metadata": {},
   "outputs": [
    {
     "name": "stdout",
     "output_type": "stream",
     "text": [
      "[1. 1. 1.]\n"
     ]
    }
   ],
   "source": [
    "\n",
    "x_2_obtained_case1 = reconstructMat(a1,b1,c1) @ x_1.T #TODO: replace r_mat\n",
    "print(x_2_obtained_case1)"
   ]
  },
  {
   "cell_type": "markdown",
   "metadata": {},
   "source": [
    "### Visualising \n",
    "Analytical solution <br>\n",
    "Our initial vector is [0,root(3),0] which will lie on y axis on root(3) <br>\n",
    "We want to land at vector [1,1,1] by ZYX rotations.\n",
    "We move as follows,\n",
    "First rotate -45 deg around z axis to land at \n",
    "Now we rotate it by yamma, beta, alpha to get vector [1,1,1] <br>\n",
    "We know the components of vector x_2 on: <br> \n",
    "y_axis > 1-0 = cos(yamma) <br>\n",
    "=> cos(yamma) = 1 <br>\n",
    "=> yamma = 0 rad <br>\n",
    "on y_axis we have, <br>\n",
    "cos(beta) = 1- root(3) <br>\n",
    "=> beta = cos-1(1-root(3))  <br>\n",
    "=> beta = np.arccos(1-np.sqrt(3))*180/np.pi = beta = 137.0585971351201  rad <br>\n",
    "Now similarly,  alpha = 0 rad <br>\n",
    "(since cos(alpha) = 1) <br>\n"
   ]
  },
  {
   "cell_type": "code",
   "execution_count": 18,
   "metadata": {},
   "outputs": [],
   "source": [
    "b2 = np.arccos(1-np.sqrt(3))*180/np.pi\n",
    "a2 = 0\n",
    "c2 = 0"
   ]
  },
  {
   "cell_type": "code",
   "execution_count": 19,
   "metadata": {},
   "outputs": [],
   "source": [
    "# From Section 2.2, use the function which takes Euler angles and gives Rotation matrix as output.\n",
    "# Uncomment and replace `r_mat` with the name of the function. (Do NOT edit anything else)\n",
    "\n",
    "x_2_obtained_case1 = reconstructMat(a1,b1,c1) @ x_1.T #TODO: replace r_mat\n",
    "x_2_obtained_case2 = reconstructMat(a2,b2,c2) @ x_2.T #TODO: replace r_mat\n",
    "test = True #TODO: Set this as True"
   ]
  },
  {
   "cell_type": "code",
   "execution_count": 20,
   "metadata": {},
   "outputs": [
    {
     "name": "stdout",
     "output_type": "stream",
     "text": [
      "[1 1 1]\n",
      "[1. 1. 1.]\n",
      "[-0.53253797  1.          1.31011576]\n"
     ]
    }
   ],
   "source": [
    "print(x_2)\n",
    "print(x_2_obtained_case1)\n",
    "print(x_2_obtained_case2)"
   ]
  },
  {
   "cell_type": "code",
   "execution_count": 21,
   "metadata": {},
   "outputs": [
    {
     "name": "stdout",
     "output_type": "stream",
     "text": [
      "For case 1, it is True that I could end up at (1,1,1) after rotation.\n",
      "For case 2, it is False that I could end up at (1,1,1) after rotation.\n"
     ]
    }
   ],
   "source": [
    "# DON'T EDIT\n",
    "if test == True:\n",
    "    case1_test = np.isclose(x_2_obtained_case1,  np.array([1.0,1.0,1.0]))\n",
    "    case2_test = np.isclose(x_2_obtained_case2,  np.array([1.0,1.0,1.0]))\n",
    "    print(\"For case 1, it is \" + str(bool(case1_test[0] and case1_test[1] and case1_test[2])) + \n",
    "          \" that I could end up at (1,1,1) after rotation.\")\n",
    "    print(\"For case 2, it is \" + str(bool(case2_test[0] and case2_test[1] and case2_test[2])) + \n",
    "          \" that I could end up at (1,1,1) after rotation.\")"
   ]
  },
  {
   "cell_type": "markdown",
   "metadata": {},
   "source": [
    "## 2.4 Gimbal Lock visualization (Optional)\n",
    "\n",
    "A nice visualization video for gimbal lock is [this](https://www.youtube.com/watch?v=zc8b2Jo7mno). You are about to animate a similar visualization demonstrating gimbal lock 😃.\n",
    "\n",
    "![image.png](./misc/xyz-frame.png)\n",
    "\n",
    "- Write a function `two_four` for the visualization of gimbal lock. Follow the below steps to get the intuition going. Use Open3D for the following.\n",
    "    - Say our frame's initial position is as the above image. Now the final goal at the end of rotation is to get the $Y$ axis pointing in the direction of the vector $(x,y,z)$ that you currently see in the above image. This point is fixed in space and is NOT moving as we rotate our axis.\n",
    "    - For creating that point, you could use a small sphere using `open3d.geometry.create_mesh_sphere`. You already know how to create an axis by now.\n",
    "    - Following our $ZYX$ convention, first rotate your frame about $Z$ axis by an angle, say $-35^{\\circ}$. Then rotate about $Y$ axis by an angle ${\\beta}$ and then about $X$ by say $55^{\\circ}$.\n",
    "        - Are there any specific angle(s) $\\beta$ using which you will **never** reach our point $(x,y,z)$ ?\n",
    "            - Clue: We are specifically talking about gimbal lock here and notice the word \"never\".\n",
    "        - Under this (these) specific angle(s) of $\\beta$ & different combinations of $\\alpha$ and $\\gamma$, make an animation and clearly show why your $Y$ axis is unable to align in the direction of that vector $(x,y,z)$ using the animation.\n",
    "\n",
    "            If you are unsure to simulate the animation, you could do it as follows:\n",
    "\n",
    "            - You could first fix some $\\alpha$, say $-35^{\\circ}$ & an above value of $\\beta$, you can now vary $\\gamma$ from $-180^{\\circ} \\text{ to }180^{\\circ}$ to simulate the animation.\n",
    "            - Now fix another $\\alpha$, say $45^{\\circ}$ and repeat the above process. So that's 2 specific values of $\\alpha$.\n",
    "            - Show this for all angles of $\\beta$ if there are more than 1.\n",
    "            - Therefore, when the code is run, there should be a minimum of (2 $\\times$ (number of values of $\\beta$)) animations. 2 for values of $\\alpha$, you could show it for even more if you wish to."
   ]
  },
  {
   "cell_type": "code",
   "execution_count": 22,
   "metadata": {},
   "outputs": [],
   "source": [
    "##############################################################################\n",
    "# TODO: Do tasks described in 2.4                                            #\n",
    "##############################################################################\n",
    "# Replace \"pass\" statement with your code\n",
    "pass\n",
    "##############################################################################\n",
    "#                             END OF YOUR CODE                               #\n",
    "##############################################################################"
   ]
  },
  {
   "cell_type": "markdown",
   "metadata": {},
   "source": [
    "> VOILA! You have just animated the famous Gimbal lock problem. If you are curious, read about the [Apollo 11](https://en.wikipedia.org/wiki/Gimbal_lock#On_Apollo_11) Gimbal lock incident.\n",
    "\n",
    "### Questions for 2.4 (Optional)\n",
    "\n",
    "- Mention the value(s) of $\\beta$ here: \n",
    "    * Ans: *your answer here.*\n",
    "- Now that you understand gimbal lock through visualization, explain it now in matrix form: For the above values of $\\beta$, what does the rotation matrix look like? Can you explain why gimbal lock occurs from the rotation matrix alone? Clue: Use sin/cos formulae. \n",
    "    * Ans: *your answer here.*\n",
    "- Call the function `two_four` for the visualization of gimbal lock written above. "
   ]
  },
  {
   "cell_type": "code",
   "execution_count": 23,
   "metadata": {},
   "outputs": [],
   "source": [
    "#uncomment the following and add input parameters if any\n",
    "#two_four()"
   ]
  }
 ],
 "metadata": {
  "celltoolbar": "Edit Metadata",
  "kernelspec": {
   "display_name": "Python 3",
   "language": "python",
   "name": "python3"
  },
  "language_info": {
   "codemirror_mode": {
    "name": "ipython",
    "version": 3
   },
   "file_extension": ".py",
   "mimetype": "text/x-python",
   "name": "python",
   "nbconvert_exporter": "python",
   "pygments_lexer": "ipython3",
   "version": "3.7.7"
  }
 },
 "nbformat": 4,
 "nbformat_minor": 4
}
